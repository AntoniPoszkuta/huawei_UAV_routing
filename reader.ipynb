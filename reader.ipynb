{
 "cells": [
  {
   "cell_type": "markdown",
   "id": "5dc8364a",
   "metadata": {},
   "source": [
    "### KLASA UAV\n",
    "##### Cechy :<ul><li>x,y (położenie drona na siatce)</li><li>B (domyślna przepustowość)</li><li>fi (przesunięcie czasowe)</li></ul> <br>Metody:<ul><li>b(t) - zwraca przepustowość drona w danej chwili t</li></ul>"
   ]
  },
  {
   "cell_type": "code",
   "execution_count": 9,
   "id": "afc89ca5",
   "metadata": {},
   "outputs": [],
   "source": [
    "class UAV:\n",
    "    def __init__(self,x,y,B,fi):\n",
    "        self.x = x\n",
    "        self.y = y\n",
    "        self.B = B\n",
    "        self.fi = fi\n",
    "        \n",
    "    def b(self, t):\n",
    "        t = (t + self.fi) % 10\n",
    "        if t in [2,7]:\n",
    "            return self.B\n",
    "        elif t in [3,4,5,6]:\n",
    "             return self.B/2\n",
    "        else:\n",
    "            return 0"
   ]
  },
  {
   "cell_type": "markdown",
   "id": "c47209ef",
   "metadata": {},
   "source": [
    "### KLASA FLOW"
   ]
  },
  {
   "cell_type": "markdown",
   "id": "e5322601",
   "metadata": {},
   "source": [
    "##### Zawiera :<br>Cechy:<ul><li>f (numer flowa)</li><li>x oraz y (koordynaty powstania flow)</li><li>t (chwila powstania flow)</li><li>Qtotal (poczatkowa ilosc danych do przesylu[nie zmieniac])</li><li>Q (ilosc danych do przesylu ktora bedzie modyfikowana w algorytmie)</li><li>m1/n1/m2/n2 (zasieg obslugi flow na mapie)</ul>Metody<ul><li>decreaseQ (zmniejsza wartosc danych do przeslania na podstawie wybranego UAV oraz aktualnego czasu) </li><ul>"
   ]
  },
  {
   "cell_type": "code",
   "execution_count": 10,
   "id": "8fe6d51f",
   "metadata": {},
   "outputs": [],
   "source": [
    "class flow:\n",
    "    def __init__(self ,f , x, y, t, Qtotal, m1, n1, m2, n2):\n",
    "        self.f = f\n",
    "        self.x = x\n",
    "        self.y = y\n",
    "        self.t = t\n",
    "        self.Qtotal = Qtotal\n",
    "        self.Q = Qtotal\n",
    "        self.m1 = m1\n",
    "        self.n1 = n1\n",
    "        self.m2 = m2\n",
    "        self.n2 = n2\n",
    "\n",
    "    def decreaseQ(self,uav,t):\n",
    "        self.Q -= uav.b(t)"
   ]
  },
  {
   "cell_type": "markdown",
   "id": "c95997c7",
   "metadata": {},
   "source": [
    "### WCZYTANIE DANYCH"
   ]
  },
  {
   "cell_type": "code",
   "execution_count": 11,
   "id": "33d03745",
   "metadata": {},
   "outputs": [
    {
     "name": "stdout",
     "output_type": "stream",
     "text": [
      "0 0\n",
      "1 0\n",
      "2 0\n",
      "0 1\n",
      "1 1\n",
      "2 1\n",
      "0 2\n",
      "1 2\n",
      "2 2\n"
     ]
    }
   ],
   "source": [
    "with open(\"test_input_example.txt\",\"r\") as file:\n",
    "    file = file.readlines()\n",
    "    \n",
    "    header = map(int,(file.pop(0).rstrip()).split(sep=' '))\n",
    "    ### ODCZYTANIE : SZEROKOŚCI SIATKI (M) WYSOKOSCI SIATKI (N), ILOSC FLOWOW DO OBSLUZENIA (FN), CZAS SYMULACJI (T) ###\n",
    "    M, N, FN, T = header\n",
    "    \n",
    "    ## UTWORZENIE PUSTEJ SIATKI\n",
    "    topology = [[0 for _ in range(M)] for _ in range(N)]\n",
    "    \n",
    "    ### TWORZENIE SIATKI PELNEJ UAV O WYMIARACH M X N (KAZDY KOORDYNAT TO ODDZIELNY OBIEKT KLASY UAV)\n",
    "    for row_index in range(M*N):\n",
    "        readed_uav = UAV(*map(int,(file[row_index].rstrip()).split(sep=' ')))\n",
    "        topology[readed_uav.y][readed_uav.x] = readed_uav\n",
    "    \n",
    "    ### PRINT KORDYNATOW SIATKI (TESTOWY)\n",
    "    for y in topology:\n",
    "        for uav in y:\n",
    "            print(uav.x,uav.y)\n",
    "    flows = []\n",
    "    for row_index in range(M*N,len(file)):\n",
    "        flows.append(flow(*map(int,(file[row_index].rstrip()).split(sep=' '))))"
   ]
  },
  {
   "cell_type": "markdown",
   "id": "bffc7e4b",
   "metadata": {},
   "source": [
    "## WYSWIETLENIE WAZNYCH DLA PROJEKTU OBIEKTOW\n",
    "### LISTA UAV'OW: "
   ]
  },
  {
   "cell_type": "code",
   "execution_count": null,
   "id": "6281f08c",
   "metadata": {},
   "outputs": [
    {
     "data": {
      "text/html": [
       "<div>\n",
       "<style scoped>\n",
       "    .dataframe tbody tr th:only-of-type {\n",
       "        vertical-align: middle;\n",
       "    }\n",
       "\n",
       "    .dataframe tbody tr th {\n",
       "        vertical-align: top;\n",
       "    }\n",
       "\n",
       "    .dataframe thead th {\n",
       "        text-align: right;\n",
       "    }\n",
       "</style>\n",
       "<table border=\"1\" class=\"dataframe\">\n",
       "  <thead>\n",
       "    <tr style=\"text-align: right;\">\n",
       "      <th></th>\n",
       "      <th>x</th>\n",
       "      <th>y</th>\n",
       "      <th>bandwidth</th>\n",
       "      <th>przesuniecie czasowe</th>\n",
       "    </tr>\n",
       "  </thead>\n",
       "  <tbody>\n",
       "    <tr>\n",
       "      <th>0</th>\n",
       "      <td>0</td>\n",
       "      <td>0</td>\n",
       "      <td>10</td>\n",
       "      <td>3</td>\n",
       "    </tr>\n",
       "    <tr>\n",
       "      <th>1</th>\n",
       "      <td>1</td>\n",
       "      <td>0</td>\n",
       "      <td>10</td>\n",
       "      <td>3</td>\n",
       "    </tr>\n",
       "    <tr>\n",
       "      <th>2</th>\n",
       "      <td>2</td>\n",
       "      <td>0</td>\n",
       "      <td>10</td>\n",
       "      <td>3</td>\n",
       "    </tr>\n",
       "    <tr>\n",
       "      <th>3</th>\n",
       "      <td>0</td>\n",
       "      <td>1</td>\n",
       "      <td>10</td>\n",
       "      <td>3</td>\n",
       "    </tr>\n",
       "    <tr>\n",
       "      <th>4</th>\n",
       "      <td>1</td>\n",
       "      <td>1</td>\n",
       "      <td>10</td>\n",
       "      <td>3</td>\n",
       "    </tr>\n",
       "    <tr>\n",
       "      <th>5</th>\n",
       "      <td>2</td>\n",
       "      <td>1</td>\n",
       "      <td>10</td>\n",
       "      <td>3</td>\n",
       "    </tr>\n",
       "    <tr>\n",
       "      <th>6</th>\n",
       "      <td>0</td>\n",
       "      <td>2</td>\n",
       "      <td>10</td>\n",
       "      <td>3</td>\n",
       "    </tr>\n",
       "    <tr>\n",
       "      <th>7</th>\n",
       "      <td>1</td>\n",
       "      <td>2</td>\n",
       "      <td>10</td>\n",
       "      <td>3</td>\n",
       "    </tr>\n",
       "    <tr>\n",
       "      <th>8</th>\n",
       "      <td>2</td>\n",
       "      <td>2</td>\n",
       "      <td>10</td>\n",
       "      <td>3</td>\n",
       "    </tr>\n",
       "  </tbody>\n",
       "</table>\n",
       "</div>"
      ],
      "text/plain": [
       "   x  y  bandwidth  przesuniecie czasowe\n",
       "0  0  0         10                     3\n",
       "1  1  0         10                     3\n",
       "2  2  0         10                     3\n",
       "3  0  1         10                     3\n",
       "4  1  1         10                     3\n",
       "5  2  1         10                     3\n",
       "6  0  2         10                     3\n",
       "7  1  2         10                     3\n",
       "8  2  2         10                     3"
      ]
     },
     "execution_count": 18,
     "metadata": {},
     "output_type": "execute_result"
    }
   ],
   "source": [
    "import pandas as pd\n",
    "\n",
    "kolumny = [\"x\",\"y\",\"przepustowosc\",\"przesuniecie czasowe\"]\n",
    "UAV_list = []\n",
    "for row in topology:\n",
    "    for uav in row:\n",
    "        UAV_list.append([uav.x,uav.y,uav.B,uav.fi])\n",
    "UAV_list = pd.DataFrame(UAV_list,columns=kolumny)\n",
    "UAV_list.head(20)"
   ]
  },
  {
   "cell_type": "markdown",
   "id": "ae483cd7",
   "metadata": {},
   "source": [
    "### LISTA FLOW'OW"
   ]
  },
  {
   "cell_type": "code",
   "execution_count": 21,
   "id": "f1358654",
   "metadata": {},
   "outputs": [
    {
     "data": {
      "text/html": [
       "<div>\n",
       "<style scoped>\n",
       "    .dataframe tbody tr th:only-of-type {\n",
       "        vertical-align: middle;\n",
       "    }\n",
       "\n",
       "    .dataframe tbody tr th {\n",
       "        vertical-align: top;\n",
       "    }\n",
       "\n",
       "    .dataframe thead th {\n",
       "        text-align: right;\n",
       "    }\n",
       "</style>\n",
       "<table border=\"1\" class=\"dataframe\">\n",
       "  <thead>\n",
       "    <tr style=\"text-align: right;\">\n",
       "      <th></th>\n",
       "      <th>numer flowa</th>\n",
       "      <th>x</th>\n",
       "      <th>y</th>\n",
       "      <th>czas startu</th>\n",
       "      <th>dane do przesłania (poczatkowo)</th>\n",
       "      <th>dane do przesłania</th>\n",
       "      <th>m1</th>\n",
       "      <th>n1</th>\n",
       "      <th>m2</th>\n",
       "      <th>n2</th>\n",
       "    </tr>\n",
       "  </thead>\n",
       "  <tbody>\n",
       "    <tr>\n",
       "      <th>0</th>\n",
       "      <td>1</td>\n",
       "      <td>0</td>\n",
       "      <td>0</td>\n",
       "      <td>0</td>\n",
       "      <td>40</td>\n",
       "      <td>40</td>\n",
       "      <td>0</td>\n",
       "      <td>0</td>\n",
       "      <td>2</td>\n",
       "      <td>2</td>\n",
       "    </tr>\n",
       "    <tr>\n",
       "      <th>1</th>\n",
       "      <td>2</td>\n",
       "      <td>0</td>\n",
       "      <td>1</td>\n",
       "      <td>2</td>\n",
       "      <td>20</td>\n",
       "      <td>20</td>\n",
       "      <td>0</td>\n",
       "      <td>0</td>\n",
       "      <td>2</td>\n",
       "      <td>2</td>\n",
       "    </tr>\n",
       "  </tbody>\n",
       "</table>\n",
       "</div>"
      ],
      "text/plain": [
       "   numer flowa  x  y  czas startu  dane do przesłania (poczatkowo)  \\\n",
       "0            1  0  0            0                               40   \n",
       "1            2  0  1            2                               20   \n",
       "\n",
       "   dane do przesłania  m1  n1  m2  n2  \n",
       "0                  40   0   0   2   2  \n",
       "1                  20   0   0   2   2  "
      ]
     },
     "execution_count": 21,
     "metadata": {},
     "output_type": "execute_result"
    }
   ],
   "source": [
    "kolumny = [\"numer flowa\",\"x\",\"y\",\"czas startu\",\"dane do przesłania (poczatkowo)\",\"dane do przesłania\",\"m1\",\"n1\",\"m2\",\"n2\"]\n",
    "flows_to_list = pd.DataFrame([[f.f,f.x,f.y,f.t,f.Qtotal,f.Q,f.m1,f.n1,f.m2,f.n2] for f in flows],columns=kolumny)\n",
    "flows_to_list.head()"
   ]
  }
 ],
 "metadata": {
  "kernelspec": {
   "display_name": "Python 3",
   "language": "python",
   "name": "python3"
  },
  "language_info": {
   "codemirror_mode": {
    "name": "ipython",
    "version": 3
   },
   "file_extension": ".py",
   "mimetype": "text/x-python",
   "name": "python",
   "nbconvert_exporter": "python",
   "pygments_lexer": "ipython3",
   "version": "3.13.8"
  }
 },
 "nbformat": 4,
 "nbformat_minor": 5
}
